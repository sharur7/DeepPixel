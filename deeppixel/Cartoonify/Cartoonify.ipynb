{
 "cells": [
  {
   "cell_type": "markdown",
   "metadata": {},
   "source": [
    "## Cartoonifying Image"
   ]
  },
  {
   "cell_type": "code",
   "execution_count": 26,
   "metadata": {},
   "outputs": [],
   "source": [
    "#Importing Libraries\n",
    "\n",
    "import cv2\n",
    "import numpy as np\n",
    "from skimage import io\n",
    "img = io.imread(\"images/Taj_Mahal.jpg\")\n",
    "\n",
    "# 1) Edges\n",
    "gray = cv2.cvtColor(img, cv2.COLOR_BGR2GRAY)\n",
    "gray = cv2.medianBlur(gray, 5)\n",
    "edges = cv2.adaptiveThreshold(gray, 255, cv2.ADAPTIVE_THRESH_GAUSSIAN_C, cv2.THRESH_BINARY, 9, 7)\n",
    "\n",
    "# 2) Color\n",
    "color = cv2.bilateralFilter(img, 10, 300, 300)\n",
    "RGB_img = cv2.cvtColor(img, cv2.COLOR_BGR2RGB)\n",
    "\n",
    "# 3) Cartoon\n",
    "cartoon = cv2.bitwise_and(color, color, mask=edges)\n",
    "cartoon_img = cv2.cvtColor(cartoon, cv2.COLOR_BGR2RGB)\n",
    "\n",
    "resize = cv2.resize(RGB_img, (1000, 700))\n",
    "resize2 = cv2.resize(cartoon_img, (1000, 700))\n",
    "\n",
    "cv2.imshow(\"Image\", resize)\n",
    "cv2.imshow(\"Cartoon\", resize2)  \n",
    "cv2.waitKey(0)\n",
    "cv2.destroyAllWindows()"
   ]
  },
  {
   "cell_type": "code",
   "execution_count": null,
   "metadata": {},
   "outputs": [],
   "source": []
  }
 ],
 "metadata": {
  "kernelspec": {
   "display_name": "Python 3",
   "language": "python",
   "name": "python3"
  },
  "language_info": {
   "codemirror_mode": {
    "name": "ipython",
    "version": 3
   },
   "file_extension": ".py",
   "mimetype": "text/x-python",
   "name": "python",
   "nbconvert_exporter": "python",
   "pygments_lexer": "ipython3",
   "version": "3.7.6"
  }
 },
 "nbformat": 4,
 "nbformat_minor": 4
}
